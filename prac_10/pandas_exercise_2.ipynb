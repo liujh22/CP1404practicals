{
 "cells": [
  {
   "cell_type": "code",
   "execution_count": 2,
   "id": "initial_id",
   "metadata": {
    "collapsed": true,
    "ExecuteTime": {
     "end_time": "2024-02-14T17:54:20.654893Z",
     "start_time": "2024-02-14T17:54:20.481487Z"
    }
   },
   "outputs": [],
   "source": [
    "import numpy as np\n",
    "import pandas as pd"
   ]
  },
  {
   "cell_type": "code",
   "execution_count": 4,
   "outputs": [],
   "source": [
    "s = pd.Series([1,3,5,np.nan,6,8])"
   ],
   "metadata": {
    "collapsed": false,
    "ExecuteTime": {
     "end_time": "2024-02-14T17:54:27.977823Z",
     "start_time": "2024-02-14T17:54:27.974523Z"
    }
   },
   "id": "710079535de1bcbf"
  },
  {
   "cell_type": "code",
   "execution_count": 5,
   "outputs": [
    {
     "data": {
      "text/plain": "0    1.0\n1    3.0\n2    5.0\n3    NaN\n4    6.0\n5    8.0\ndtype: float64"
     },
     "execution_count": 5,
     "metadata": {},
     "output_type": "execute_result"
    }
   ],
   "source": [
    "s"
   ],
   "metadata": {
    "collapsed": false,
    "ExecuteTime": {
     "end_time": "2024-02-14T17:54:30.878289Z",
     "start_time": "2024-02-14T17:54:30.872876Z"
    }
   },
   "id": "162adb266bd51ced"
  },
  {
   "cell_type": "code",
   "execution_count": 14,
   "outputs": [],
   "source": [
    "dates = pd.date_range('20130101', periods=6)"
   ],
   "metadata": {
    "collapsed": false,
    "ExecuteTime": {
     "end_time": "2024-02-14T17:56:38.980934Z",
     "start_time": "2024-02-14T17:56:38.978046Z"
    }
   },
   "id": "a54cea8faedc6d36"
  },
  {
   "cell_type": "code",
   "execution_count": 15,
   "outputs": [
    {
     "data": {
      "text/plain": "DatetimeIndex(['2013-01-01', '2013-01-02', '2013-01-03', '2013-01-04',\n               '2013-01-05', '2013-01-06'],\n              dtype='datetime64[ns]', freq='D')"
     },
     "execution_count": 15,
     "metadata": {},
     "output_type": "execute_result"
    }
   ],
   "source": [
    "dates"
   ],
   "metadata": {
    "collapsed": false,
    "ExecuteTime": {
     "end_time": "2024-02-14T17:56:39.406210Z",
     "start_time": "2024-02-14T17:56:39.404241Z"
    }
   },
   "id": "16492861fd4c18c4"
  },
  {
   "cell_type": "code",
   "execution_count": 20,
   "outputs": [],
   "source": [
    "df = pd.DataFrame(np.random.randn(6,4), index = dates, columns=list('ABCD'))"
   ],
   "metadata": {
    "collapsed": false,
    "ExecuteTime": {
     "end_time": "2024-02-14T18:00:18.537524Z",
     "start_time": "2024-02-14T18:00:18.532415Z"
    }
   },
   "id": "2f587ad688cc31e"
  },
  {
   "cell_type": "code",
   "execution_count": 21,
   "outputs": [
    {
     "data": {
      "text/plain": "                   A         B         C         D\n2013-01-01  0.236449 -0.155890  0.008515 -0.608064\n2013-01-02  0.000899 -0.526709 -0.953149  1.200450\n2013-01-03  1.566941 -1.041163 -1.621782 -0.825316\n2013-01-04  1.574376 -0.834123 -0.469845 -0.142087\n2013-01-05  0.277733 -0.180741  0.985090  0.747997\n2013-01-06 -0.238001 -2.022159  1.641314 -1.036292",
      "text/html": "<div>\n<style scoped>\n    .dataframe tbody tr th:only-of-type {\n        vertical-align: middle;\n    }\n\n    .dataframe tbody tr th {\n        vertical-align: top;\n    }\n\n    .dataframe thead th {\n        text-align: right;\n    }\n</style>\n<table border=\"1\" class=\"dataframe\">\n  <thead>\n    <tr style=\"text-align: right;\">\n      <th></th>\n      <th>A</th>\n      <th>B</th>\n      <th>C</th>\n      <th>D</th>\n    </tr>\n  </thead>\n  <tbody>\n    <tr>\n      <th>2013-01-01</th>\n      <td>0.236449</td>\n      <td>-0.155890</td>\n      <td>0.008515</td>\n      <td>-0.608064</td>\n    </tr>\n    <tr>\n      <th>2013-01-02</th>\n      <td>0.000899</td>\n      <td>-0.526709</td>\n      <td>-0.953149</td>\n      <td>1.200450</td>\n    </tr>\n    <tr>\n      <th>2013-01-03</th>\n      <td>1.566941</td>\n      <td>-1.041163</td>\n      <td>-1.621782</td>\n      <td>-0.825316</td>\n    </tr>\n    <tr>\n      <th>2013-01-04</th>\n      <td>1.574376</td>\n      <td>-0.834123</td>\n      <td>-0.469845</td>\n      <td>-0.142087</td>\n    </tr>\n    <tr>\n      <th>2013-01-05</th>\n      <td>0.277733</td>\n      <td>-0.180741</td>\n      <td>0.985090</td>\n      <td>0.747997</td>\n    </tr>\n    <tr>\n      <th>2013-01-06</th>\n      <td>-0.238001</td>\n      <td>-2.022159</td>\n      <td>1.641314</td>\n      <td>-1.036292</td>\n    </tr>\n  </tbody>\n</table>\n</div>"
     },
     "execution_count": 21,
     "metadata": {},
     "output_type": "execute_result"
    }
   ],
   "source": [
    "df"
   ],
   "metadata": {
    "collapsed": false,
    "ExecuteTime": {
     "end_time": "2024-02-14T18:00:19.452706Z",
     "start_time": "2024-02-14T18:00:19.448496Z"
    }
   },
   "id": "7ebf8f0237f4ede7"
  },
  {
   "cell_type": "code",
   "execution_count": 24,
   "outputs": [],
   "source": [
    "df2 = pd.DataFrame({\"A\":1.,\n",
    "                    \"B\":pd.Timestamp(\"20130102\"),\n",
    "                    \"C\":pd.Series(1,index=list(range(4)), dtype='float32'),\n",
    "                    \"D\":np.array([3]*4, dtype='int32'),\n",
    "                    \"E\": pd.Categorical([\"test\", \"train\", \"test\", \"train\"]),\n",
    "                    \"F\": \"foo\"})"
   ],
   "metadata": {
    "collapsed": false,
    "ExecuteTime": {
     "end_time": "2024-02-14T18:03:22.942035Z",
     "start_time": "2024-02-14T18:03:22.939133Z"
    }
   },
   "id": "46b94f80a8d13cbb"
  },
  {
   "cell_type": "code",
   "execution_count": 25,
   "outputs": [
    {
     "data": {
      "text/plain": "     A          B    C  D      E    F\n0  1.0 2013-01-02  1.0  3   test  foo\n1  1.0 2013-01-02  1.0  3  train  foo\n2  1.0 2013-01-02  1.0  3   test  foo\n3  1.0 2013-01-02  1.0  3  train  foo",
      "text/html": "<div>\n<style scoped>\n    .dataframe tbody tr th:only-of-type {\n        vertical-align: middle;\n    }\n\n    .dataframe tbody tr th {\n        vertical-align: top;\n    }\n\n    .dataframe thead th {\n        text-align: right;\n    }\n</style>\n<table border=\"1\" class=\"dataframe\">\n  <thead>\n    <tr style=\"text-align: right;\">\n      <th></th>\n      <th>A</th>\n      <th>B</th>\n      <th>C</th>\n      <th>D</th>\n      <th>E</th>\n      <th>F</th>\n    </tr>\n  </thead>\n  <tbody>\n    <tr>\n      <th>0</th>\n      <td>1.0</td>\n      <td>2013-01-02</td>\n      <td>1.0</td>\n      <td>3</td>\n      <td>test</td>\n      <td>foo</td>\n    </tr>\n    <tr>\n      <th>1</th>\n      <td>1.0</td>\n      <td>2013-01-02</td>\n      <td>1.0</td>\n      <td>3</td>\n      <td>train</td>\n      <td>foo</td>\n    </tr>\n    <tr>\n      <th>2</th>\n      <td>1.0</td>\n      <td>2013-01-02</td>\n      <td>1.0</td>\n      <td>3</td>\n      <td>test</td>\n      <td>foo</td>\n    </tr>\n    <tr>\n      <th>3</th>\n      <td>1.0</td>\n      <td>2013-01-02</td>\n      <td>1.0</td>\n      <td>3</td>\n      <td>train</td>\n      <td>foo</td>\n    </tr>\n  </tbody>\n</table>\n</div>"
     },
     "execution_count": 25,
     "metadata": {},
     "output_type": "execute_result"
    }
   ],
   "source": [
    "df2"
   ],
   "metadata": {
    "collapsed": false,
    "ExecuteTime": {
     "end_time": "2024-02-14T18:03:26.768934Z",
     "start_time": "2024-02-14T18:03:26.766132Z"
    }
   },
   "id": "5f8c04b761b8824e"
  },
  {
   "cell_type": "code",
   "execution_count": 26,
   "outputs": [
    {
     "data": {
      "text/plain": "A          float64\nB    datetime64[s]\nC          float32\nD            int32\nE         category\nF           object\ndtype: object"
     },
     "execution_count": 26,
     "metadata": {},
     "output_type": "execute_result"
    }
   ],
   "source": [
    "df2.dtypes"
   ],
   "metadata": {
    "collapsed": false,
    "ExecuteTime": {
     "end_time": "2024-02-14T18:07:16.436496Z",
     "start_time": "2024-02-14T18:07:16.434275Z"
    }
   },
   "id": "18a1ccbbfc1f8a49"
  },
  {
   "cell_type": "code",
   "execution_count": 28,
   "outputs": [
    {
     "data": {
      "text/plain": "                   A         B         C         D\n2013-01-01  0.236449 -0.155890  0.008515 -0.608064\n2013-01-02  0.000899 -0.526709 -0.953149  1.200450\n2013-01-03  1.566941 -1.041163 -1.621782 -0.825316\n2013-01-04  1.574376 -0.834123 -0.469845 -0.142087\n2013-01-05  0.277733 -0.180741  0.985090  0.747997",
      "text/html": "<div>\n<style scoped>\n    .dataframe tbody tr th:only-of-type {\n        vertical-align: middle;\n    }\n\n    .dataframe tbody tr th {\n        vertical-align: top;\n    }\n\n    .dataframe thead th {\n        text-align: right;\n    }\n</style>\n<table border=\"1\" class=\"dataframe\">\n  <thead>\n    <tr style=\"text-align: right;\">\n      <th></th>\n      <th>A</th>\n      <th>B</th>\n      <th>C</th>\n      <th>D</th>\n    </tr>\n  </thead>\n  <tbody>\n    <tr>\n      <th>2013-01-01</th>\n      <td>0.236449</td>\n      <td>-0.155890</td>\n      <td>0.008515</td>\n      <td>-0.608064</td>\n    </tr>\n    <tr>\n      <th>2013-01-02</th>\n      <td>0.000899</td>\n      <td>-0.526709</td>\n      <td>-0.953149</td>\n      <td>1.200450</td>\n    </tr>\n    <tr>\n      <th>2013-01-03</th>\n      <td>1.566941</td>\n      <td>-1.041163</td>\n      <td>-1.621782</td>\n      <td>-0.825316</td>\n    </tr>\n    <tr>\n      <th>2013-01-04</th>\n      <td>1.574376</td>\n      <td>-0.834123</td>\n      <td>-0.469845</td>\n      <td>-0.142087</td>\n    </tr>\n    <tr>\n      <th>2013-01-05</th>\n      <td>0.277733</td>\n      <td>-0.180741</td>\n      <td>0.985090</td>\n      <td>0.747997</td>\n    </tr>\n  </tbody>\n</table>\n</div>"
     },
     "execution_count": 28,
     "metadata": {},
     "output_type": "execute_result"
    }
   ],
   "source": [
    "df.head()"
   ],
   "metadata": {
    "collapsed": false,
    "ExecuteTime": {
     "end_time": "2024-02-14T18:12:13.568365Z",
     "start_time": "2024-02-14T18:12:13.562048Z"
    }
   },
   "id": "b770efad2ac30a30"
  },
  {
   "cell_type": "code",
   "execution_count": 30,
   "outputs": [
    {
     "data": {
      "text/plain": "                   A         B         C         D\n2013-01-04  1.574376 -0.834123 -0.469845 -0.142087\n2013-01-05  0.277733 -0.180741  0.985090  0.747997\n2013-01-06 -0.238001 -2.022159  1.641314 -1.036292",
      "text/html": "<div>\n<style scoped>\n    .dataframe tbody tr th:only-of-type {\n        vertical-align: middle;\n    }\n\n    .dataframe tbody tr th {\n        vertical-align: top;\n    }\n\n    .dataframe thead th {\n        text-align: right;\n    }\n</style>\n<table border=\"1\" class=\"dataframe\">\n  <thead>\n    <tr style=\"text-align: right;\">\n      <th></th>\n      <th>A</th>\n      <th>B</th>\n      <th>C</th>\n      <th>D</th>\n    </tr>\n  </thead>\n  <tbody>\n    <tr>\n      <th>2013-01-04</th>\n      <td>1.574376</td>\n      <td>-0.834123</td>\n      <td>-0.469845</td>\n      <td>-0.142087</td>\n    </tr>\n    <tr>\n      <th>2013-01-05</th>\n      <td>0.277733</td>\n      <td>-0.180741</td>\n      <td>0.985090</td>\n      <td>0.747997</td>\n    </tr>\n    <tr>\n      <th>2013-01-06</th>\n      <td>-0.238001</td>\n      <td>-2.022159</td>\n      <td>1.641314</td>\n      <td>-1.036292</td>\n    </tr>\n  </tbody>\n</table>\n</div>"
     },
     "execution_count": 30,
     "metadata": {},
     "output_type": "execute_result"
    }
   ],
   "source": [
    "df.tail(3)"
   ],
   "metadata": {
    "collapsed": false,
    "ExecuteTime": {
     "end_time": "2024-02-14T18:12:35.566944Z",
     "start_time": "2024-02-14T18:12:35.563458Z"
    }
   },
   "id": "ce11d8fc06daaebd"
  },
  {
   "cell_type": "code",
   "execution_count": 31,
   "outputs": [
    {
     "data": {
      "text/plain": "DatetimeIndex(['2013-01-01', '2013-01-02', '2013-01-03', '2013-01-04',\n               '2013-01-05', '2013-01-06'],\n              dtype='datetime64[ns]', freq='D')"
     },
     "execution_count": 31,
     "metadata": {},
     "output_type": "execute_result"
    }
   ],
   "source": [
    "df.index"
   ],
   "metadata": {
    "collapsed": false,
    "ExecuteTime": {
     "end_time": "2024-02-14T18:14:02.372457Z",
     "start_time": "2024-02-14T18:14:02.370353Z"
    }
   },
   "id": "80dc7f39174c88f8"
  },
  {
   "cell_type": "code",
   "execution_count": 32,
   "outputs": [
    {
     "data": {
      "text/plain": "Index(['A', 'B', 'C', 'D'], dtype='object')"
     },
     "execution_count": 32,
     "metadata": {},
     "output_type": "execute_result"
    }
   ],
   "source": [
    "df.columns"
   ],
   "metadata": {
    "collapsed": false,
    "ExecuteTime": {
     "end_time": "2024-02-14T18:14:16.809888Z",
     "start_time": "2024-02-14T18:14:16.804362Z"
    }
   },
   "id": "6943dfb45fd11d0a"
  },
  {
   "cell_type": "code",
   "execution_count": 35,
   "outputs": [
    {
     "data": {
      "text/plain": "array([[ 2.36449013e-01, -1.55890159e-01,  8.51493858e-03,\n        -6.08064497e-01],\n       [ 8.99461346e-04, -5.26708615e-01, -9.53149458e-01,\n         1.20045020e+00],\n       [ 1.56694119e+00, -1.04116278e+00, -1.62178232e+00,\n        -8.25315866e-01],\n       [ 1.57437574e+00, -8.34123373e-01, -4.69844761e-01,\n        -1.42086587e-01],\n       [ 2.77732834e-01, -1.80740848e-01,  9.85089626e-01,\n         7.47996720e-01],\n       [-2.38000908e-01, -2.02215940e+00,  1.64131427e+00,\n        -1.03629192e+00]])"
     },
     "execution_count": 35,
     "metadata": {},
     "output_type": "execute_result"
    }
   ],
   "source": [
    "df.to_numpy()"
   ],
   "metadata": {
    "collapsed": false,
    "ExecuteTime": {
     "end_time": "2024-02-14T18:15:47.686819Z",
     "start_time": "2024-02-14T18:15:47.682443Z"
    }
   },
   "id": "2c03f49e824162ab"
  },
  {
   "cell_type": "code",
   "execution_count": 38,
   "outputs": [
    {
     "data": {
      "text/plain": "array([[1.0, Timestamp('2013-01-02 00:00:00'), 1.0, 3, 'test', 'foo'],\n       [1.0, Timestamp('2013-01-02 00:00:00'), 1.0, 3, 'train', 'foo'],\n       [1.0, Timestamp('2013-01-02 00:00:00'), 1.0, 3, 'test', 'foo'],\n       [1.0, Timestamp('2013-01-02 00:00:00'), 1.0, 3, 'train', 'foo']],\n      dtype=object)"
     },
     "execution_count": 38,
     "metadata": {},
     "output_type": "execute_result"
    }
   ],
   "source": [
    "df2.to_numpy()"
   ],
   "metadata": {
    "collapsed": false,
    "ExecuteTime": {
     "end_time": "2024-02-14T18:17:10.063439Z",
     "start_time": "2024-02-14T18:17:10.058531Z"
    }
   },
   "id": "99d7cc7caefb1632"
  },
  {
   "cell_type": "code",
   "execution_count": 39,
   "outputs": [
    {
     "data": {
      "text/plain": "              A         B         C         D\ncount  6.000000  6.000000  6.000000  6.000000\nmean   0.569733 -0.793464 -0.068310 -0.110552\nstd    0.797004  0.696533  1.216208  0.902466\nmin   -0.238001 -2.022159 -1.621782 -1.036292\n25%    0.059787 -0.989403 -0.832323 -0.771003\n50%    0.257091 -0.680416 -0.230665 -0.375076\n75%    1.244639 -0.267233  0.740946  0.525476\nmax    1.574376 -0.155890  1.641314  1.200450",
      "text/html": "<div>\n<style scoped>\n    .dataframe tbody tr th:only-of-type {\n        vertical-align: middle;\n    }\n\n    .dataframe tbody tr th {\n        vertical-align: top;\n    }\n\n    .dataframe thead th {\n        text-align: right;\n    }\n</style>\n<table border=\"1\" class=\"dataframe\">\n  <thead>\n    <tr style=\"text-align: right;\">\n      <th></th>\n      <th>A</th>\n      <th>B</th>\n      <th>C</th>\n      <th>D</th>\n    </tr>\n  </thead>\n  <tbody>\n    <tr>\n      <th>count</th>\n      <td>6.000000</td>\n      <td>6.000000</td>\n      <td>6.000000</td>\n      <td>6.000000</td>\n    </tr>\n    <tr>\n      <th>mean</th>\n      <td>0.569733</td>\n      <td>-0.793464</td>\n      <td>-0.068310</td>\n      <td>-0.110552</td>\n    </tr>\n    <tr>\n      <th>std</th>\n      <td>0.797004</td>\n      <td>0.696533</td>\n      <td>1.216208</td>\n      <td>0.902466</td>\n    </tr>\n    <tr>\n      <th>min</th>\n      <td>-0.238001</td>\n      <td>-2.022159</td>\n      <td>-1.621782</td>\n      <td>-1.036292</td>\n    </tr>\n    <tr>\n      <th>25%</th>\n      <td>0.059787</td>\n      <td>-0.989403</td>\n      <td>-0.832323</td>\n      <td>-0.771003</td>\n    </tr>\n    <tr>\n      <th>50%</th>\n      <td>0.257091</td>\n      <td>-0.680416</td>\n      <td>-0.230665</td>\n      <td>-0.375076</td>\n    </tr>\n    <tr>\n      <th>75%</th>\n      <td>1.244639</td>\n      <td>-0.267233</td>\n      <td>0.740946</td>\n      <td>0.525476</td>\n    </tr>\n    <tr>\n      <th>max</th>\n      <td>1.574376</td>\n      <td>-0.155890</td>\n      <td>1.641314</td>\n      <td>1.200450</td>\n    </tr>\n  </tbody>\n</table>\n</div>"
     },
     "execution_count": 39,
     "metadata": {},
     "output_type": "execute_result"
    }
   ],
   "source": [
    "df.describe()"
   ],
   "metadata": {
    "collapsed": false,
    "ExecuteTime": {
     "end_time": "2024-02-14T18:17:39.154257Z",
     "start_time": "2024-02-14T18:17:39.148715Z"
    }
   },
   "id": "9073119e1c5b1738"
  },
  {
   "cell_type": "code",
   "execution_count": 40,
   "outputs": [
    {
     "data": {
      "text/plain": "   2013-01-01  2013-01-02  2013-01-03  2013-01-04  2013-01-05  2013-01-06\nA    0.236449    0.000899    1.566941    1.574376    0.277733   -0.238001\nB   -0.155890   -0.526709   -1.041163   -0.834123   -0.180741   -2.022159\nC    0.008515   -0.953149   -1.621782   -0.469845    0.985090    1.641314\nD   -0.608064    1.200450   -0.825316   -0.142087    0.747997   -1.036292",
      "text/html": "<div>\n<style scoped>\n    .dataframe tbody tr th:only-of-type {\n        vertical-align: middle;\n    }\n\n    .dataframe tbody tr th {\n        vertical-align: top;\n    }\n\n    .dataframe thead th {\n        text-align: right;\n    }\n</style>\n<table border=\"1\" class=\"dataframe\">\n  <thead>\n    <tr style=\"text-align: right;\">\n      <th></th>\n      <th>2013-01-01</th>\n      <th>2013-01-02</th>\n      <th>2013-01-03</th>\n      <th>2013-01-04</th>\n      <th>2013-01-05</th>\n      <th>2013-01-06</th>\n    </tr>\n  </thead>\n  <tbody>\n    <tr>\n      <th>A</th>\n      <td>0.236449</td>\n      <td>0.000899</td>\n      <td>1.566941</td>\n      <td>1.574376</td>\n      <td>0.277733</td>\n      <td>-0.238001</td>\n    </tr>\n    <tr>\n      <th>B</th>\n      <td>-0.155890</td>\n      <td>-0.526709</td>\n      <td>-1.041163</td>\n      <td>-0.834123</td>\n      <td>-0.180741</td>\n      <td>-2.022159</td>\n    </tr>\n    <tr>\n      <th>C</th>\n      <td>0.008515</td>\n      <td>-0.953149</td>\n      <td>-1.621782</td>\n      <td>-0.469845</td>\n      <td>0.985090</td>\n      <td>1.641314</td>\n    </tr>\n    <tr>\n      <th>D</th>\n      <td>-0.608064</td>\n      <td>1.200450</td>\n      <td>-0.825316</td>\n      <td>-0.142087</td>\n      <td>0.747997</td>\n      <td>-1.036292</td>\n    </tr>\n  </tbody>\n</table>\n</div>"
     },
     "execution_count": 40,
     "metadata": {},
     "output_type": "execute_result"
    }
   ],
   "source": [
    "df.T"
   ],
   "metadata": {
    "collapsed": false,
    "ExecuteTime": {
     "end_time": "2024-02-14T18:19:30.842679Z",
     "start_time": "2024-02-14T18:19:30.824464Z"
    }
   },
   "id": "ba420d0e170750f7"
  },
  {
   "cell_type": "code",
   "execution_count": 46,
   "outputs": [
    {
     "data": {
      "text/plain": "                   D         C         B         A\n2013-01-01 -0.608064  0.008515 -0.155890  0.236449\n2013-01-02  1.200450 -0.953149 -0.526709  0.000899\n2013-01-03 -0.825316 -1.621782 -1.041163  1.566941\n2013-01-04 -0.142087 -0.469845 -0.834123  1.574376\n2013-01-05  0.747997  0.985090 -0.180741  0.277733\n2013-01-06 -1.036292  1.641314 -2.022159 -0.238001",
      "text/html": "<div>\n<style scoped>\n    .dataframe tbody tr th:only-of-type {\n        vertical-align: middle;\n    }\n\n    .dataframe tbody tr th {\n        vertical-align: top;\n    }\n\n    .dataframe thead th {\n        text-align: right;\n    }\n</style>\n<table border=\"1\" class=\"dataframe\">\n  <thead>\n    <tr style=\"text-align: right;\">\n      <th></th>\n      <th>D</th>\n      <th>C</th>\n      <th>B</th>\n      <th>A</th>\n    </tr>\n  </thead>\n  <tbody>\n    <tr>\n      <th>2013-01-01</th>\n      <td>-0.608064</td>\n      <td>0.008515</td>\n      <td>-0.155890</td>\n      <td>0.236449</td>\n    </tr>\n    <tr>\n      <th>2013-01-02</th>\n      <td>1.200450</td>\n      <td>-0.953149</td>\n      <td>-0.526709</td>\n      <td>0.000899</td>\n    </tr>\n    <tr>\n      <th>2013-01-03</th>\n      <td>-0.825316</td>\n      <td>-1.621782</td>\n      <td>-1.041163</td>\n      <td>1.566941</td>\n    </tr>\n    <tr>\n      <th>2013-01-04</th>\n      <td>-0.142087</td>\n      <td>-0.469845</td>\n      <td>-0.834123</td>\n      <td>1.574376</td>\n    </tr>\n    <tr>\n      <th>2013-01-05</th>\n      <td>0.747997</td>\n      <td>0.985090</td>\n      <td>-0.180741</td>\n      <td>0.277733</td>\n    </tr>\n    <tr>\n      <th>2013-01-06</th>\n      <td>-1.036292</td>\n      <td>1.641314</td>\n      <td>-2.022159</td>\n      <td>-0.238001</td>\n    </tr>\n  </tbody>\n</table>\n</div>"
     },
     "execution_count": 46,
     "metadata": {},
     "output_type": "execute_result"
    }
   ],
   "source": [
    "df.sort_index(axis=1,ascending=False)"
   ],
   "metadata": {
    "collapsed": false,
    "ExecuteTime": {
     "end_time": "2024-02-14T18:22:13.606674Z",
     "start_time": "2024-02-14T18:22:13.602945Z"
    }
   },
   "id": "9889ee29c94106f1"
  },
  {
   "cell_type": "code",
   "execution_count": 47,
   "outputs": [
    {
     "data": {
      "text/plain": "                   A         B         C         D\n2013-01-01  0.236449 -0.155890  0.008515 -0.608064\n2013-01-02  0.000899 -0.526709 -0.953149  1.200450\n2013-01-03  1.566941 -1.041163 -1.621782 -0.825316\n2013-01-04  1.574376 -0.834123 -0.469845 -0.142087\n2013-01-05  0.277733 -0.180741  0.985090  0.747997\n2013-01-06 -0.238001 -2.022159  1.641314 -1.036292",
      "text/html": "<div>\n<style scoped>\n    .dataframe tbody tr th:only-of-type {\n        vertical-align: middle;\n    }\n\n    .dataframe tbody tr th {\n        vertical-align: top;\n    }\n\n    .dataframe thead th {\n        text-align: right;\n    }\n</style>\n<table border=\"1\" class=\"dataframe\">\n  <thead>\n    <tr style=\"text-align: right;\">\n      <th></th>\n      <th>A</th>\n      <th>B</th>\n      <th>C</th>\n      <th>D</th>\n    </tr>\n  </thead>\n  <tbody>\n    <tr>\n      <th>2013-01-01</th>\n      <td>0.236449</td>\n      <td>-0.155890</td>\n      <td>0.008515</td>\n      <td>-0.608064</td>\n    </tr>\n    <tr>\n      <th>2013-01-02</th>\n      <td>0.000899</td>\n      <td>-0.526709</td>\n      <td>-0.953149</td>\n      <td>1.200450</td>\n    </tr>\n    <tr>\n      <th>2013-01-03</th>\n      <td>1.566941</td>\n      <td>-1.041163</td>\n      <td>-1.621782</td>\n      <td>-0.825316</td>\n    </tr>\n    <tr>\n      <th>2013-01-04</th>\n      <td>1.574376</td>\n      <td>-0.834123</td>\n      <td>-0.469845</td>\n      <td>-0.142087</td>\n    </tr>\n    <tr>\n      <th>2013-01-05</th>\n      <td>0.277733</td>\n      <td>-0.180741</td>\n      <td>0.985090</td>\n      <td>0.747997</td>\n    </tr>\n    <tr>\n      <th>2013-01-06</th>\n      <td>-0.238001</td>\n      <td>-2.022159</td>\n      <td>1.641314</td>\n      <td>-1.036292</td>\n    </tr>\n  </tbody>\n</table>\n</div>"
     },
     "execution_count": 47,
     "metadata": {},
     "output_type": "execute_result"
    }
   ],
   "source": [],
   "metadata": {
    "collapsed": false,
    "ExecuteTime": {
     "end_time": "2024-02-14T18:22:17.302830Z",
     "start_time": "2024-02-14T18:22:17.297729Z"
    }
   },
   "id": "bba569d8b0e7c794"
  },
  {
   "cell_type": "code",
   "execution_count": null,
   "outputs": [],
   "source": [],
   "metadata": {
    "collapsed": false
   },
   "id": "248e990720c38cc9"
  }
 ],
 "metadata": {
  "kernelspec": {
   "display_name": "Python 3",
   "language": "python",
   "name": "python3"
  },
  "language_info": {
   "codemirror_mode": {
    "name": "ipython",
    "version": 2
   },
   "file_extension": ".py",
   "mimetype": "text/x-python",
   "name": "python",
   "nbconvert_exporter": "python",
   "pygments_lexer": "ipython2",
   "version": "2.7.6"
  }
 },
 "nbformat": 4,
 "nbformat_minor": 5
}
